{
 "cells": [
  {
   "cell_type": "code",
   "execution_count": 1,
   "metadata": {},
   "outputs": [],
   "source": [
    "import pandas as pd\n",
    "import io\n",
    "import string\n",
    "import numpy as np"
   ]
  },
  {
   "cell_type": "code",
   "execution_count": 2,
   "metadata": {},
   "outputs": [],
   "source": [
    "# stringified table\n",
    "data_string = \"\"'Airline Code;DelayTimes;FlightCodes;To_From\\nAir Canada (!);[21, 40];20015.0;WAterLoo_NEWYork\\n<Air France> (12);[];;Montreal_TORONTO\\n(Porter Airways. );[60, 22, 87];20035.0;CALgary_Ottawa\\n12. Air France;[78, 66];;Ottawa_VANcouvER\\n\"\"\".\\\\.Lufthansa.\\\\.\"\"\";[12, 33];20055.0;london_MONTreal\\n'\"\""
   ]
  },
  {
   "cell_type": "code",
   "execution_count": 3,
   "metadata": {},
   "outputs": [],
   "source": [
    "data = io.StringIO(data_string)"
   ]
  },
  {
   "cell_type": "code",
   "execution_count": 4,
   "metadata": {},
   "outputs": [],
   "source": [
    "# import data\n",
    "raw_df = pd.read_csv(data, sep=\";\")"
   ]
  },
  {
   "cell_type": "code",
   "execution_count": 5,
   "metadata": {
    "scrolled": true
   },
   "outputs": [
    {
     "data": {
      "text/html": [
       "<div>\n",
       "<style scoped>\n",
       "    .dataframe tbody tr th:only-of-type {\n",
       "        vertical-align: middle;\n",
       "    }\n",
       "\n",
       "    .dataframe tbody tr th {\n",
       "        vertical-align: top;\n",
       "    }\n",
       "\n",
       "    .dataframe thead th {\n",
       "        text-align: right;\n",
       "    }\n",
       "</style>\n",
       "<table border=\"1\" class=\"dataframe\">\n",
       "  <thead>\n",
       "    <tr style=\"text-align: right;\">\n",
       "      <th></th>\n",
       "      <th>Airline Code</th>\n",
       "      <th>DelayTimes</th>\n",
       "      <th>FlightCodes</th>\n",
       "      <th>To_From</th>\n",
       "    </tr>\n",
       "  </thead>\n",
       "  <tbody>\n",
       "    <tr>\n",
       "      <td>0</td>\n",
       "      <td>Air Canada (!)</td>\n",
       "      <td>[21, 40]</td>\n",
       "      <td>20015.0</td>\n",
       "      <td>WAterLoo_NEWYork</td>\n",
       "    </tr>\n",
       "    <tr>\n",
       "      <td>1</td>\n",
       "      <td>&lt;Air France&gt; (12)</td>\n",
       "      <td>[]</td>\n",
       "      <td>NaN</td>\n",
       "      <td>Montreal_TORONTO</td>\n",
       "    </tr>\n",
       "    <tr>\n",
       "      <td>2</td>\n",
       "      <td>(Porter Airways. )</td>\n",
       "      <td>[60, 22, 87]</td>\n",
       "      <td>20035.0</td>\n",
       "      <td>CALgary_Ottawa</td>\n",
       "    </tr>\n",
       "    <tr>\n",
       "      <td>3</td>\n",
       "      <td>12. Air France</td>\n",
       "      <td>[78, 66]</td>\n",
       "      <td>NaN</td>\n",
       "      <td>Ottawa_VANcouvER</td>\n",
       "    </tr>\n",
       "    <tr>\n",
       "      <td>4</td>\n",
       "      <td>\".\\.Lufthansa.\\.\"</td>\n",
       "      <td>[12, 33]</td>\n",
       "      <td>20055.0</td>\n",
       "      <td>london_MONTreal</td>\n",
       "    </tr>\n",
       "  </tbody>\n",
       "</table>\n",
       "</div>"
      ],
      "text/plain": [
       "         Airline Code    DelayTimes  FlightCodes           To_From\n",
       "0      Air Canada (!)      [21, 40]      20015.0  WAterLoo_NEWYork\n",
       "1   <Air France> (12)            []          NaN  Montreal_TORONTO\n",
       "2  (Porter Airways. )  [60, 22, 87]      20035.0    CALgary_Ottawa\n",
       "3      12. Air France      [78, 66]          NaN  Ottawa_VANcouvER\n",
       "4   \".\\.Lufthansa.\\.\"      [12, 33]      20055.0   london_MONTreal"
      ]
     },
     "execution_count": 5,
     "metadata": {},
     "output_type": "execute_result"
    }
   ],
   "source": [
    "raw_df"
   ]
  },
  {
   "cell_type": "code",
   "execution_count": 6,
   "metadata": {},
   "outputs": [],
   "source": [
    "# Capitalize all the letters to improve readability\n",
    "raw_df['To_From'] = raw_df['To_From'].str.upper()"
   ]
  },
  {
   "cell_type": "code",
   "execution_count": 7,
   "metadata": {},
   "outputs": [],
   "source": [
    "# Split the To_From column on '_' into two columns\n",
    "raw_df['To'], raw_df['From'] = raw_df['To_From'].str.split('_', 1).str"
   ]
  },
  {
   "cell_type": "code",
   "execution_count": 8,
   "metadata": {},
   "outputs": [],
   "source": [
    "# Remove all the punctations and digits\n",
    "raw_df['Airline Code'] = raw_df['Airline Code'].str.replace(r'[^a-zA-Z ]+', '')"
   ]
  },
  {
   "cell_type": "code",
   "execution_count": 9,
   "metadata": {},
   "outputs": [],
   "source": [
    "def modify_flight(df):\n",
    "    '''\n",
    "    This function is to help modify the FlightCodes column by changing the value type to \n",
    "    integer and deal with the missing value where flight codes are supposed to increase by 10 with each row. \n",
    "    It will return a new dataframe with modified FlightCodes column. \n",
    "    \n",
    "    Args: df is a dataframe\n",
    "    \n",
    "    Return: dataframe\n",
    "    '''\n",
    "    idx = 0\n",
    "    firstNotNull = 0\n",
    "    isNull = True\n",
    "    while idx < len(df.index):\n",
    "        if isNull:\n",
    "            if (pd.isna(df.iloc[idx,2])):\n",
    "                firstNotNull += 1\n",
    "            elif (firstNotNull != 0):\n",
    "                isNull = False\n",
    "                for i in reversed(range(firstNotNull)):\n",
    "                    df.iloc[i,2] = df.iloc[i+1,2] - 10\n",
    "            elif (firstNotNull == 0):\n",
    "                isNull = False\n",
    "                idx += 1\n",
    "                continue\n",
    "        else:\n",
    "            df.iloc[idx,2] = df.iloc[idx-1,2] + 10\n",
    "        idx += 1\n",
    "    return df      "
   ]
  },
  {
   "cell_type": "code",
   "execution_count": 10,
   "metadata": {},
   "outputs": [
    {
     "data": {
      "text/html": [
       "<div>\n",
       "<style scoped>\n",
       "    .dataframe tbody tr th:only-of-type {\n",
       "        vertical-align: middle;\n",
       "    }\n",
       "\n",
       "    .dataframe tbody tr th {\n",
       "        vertical-align: top;\n",
       "    }\n",
       "\n",
       "    .dataframe thead th {\n",
       "        text-align: right;\n",
       "    }\n",
       "</style>\n",
       "<table border=\"1\" class=\"dataframe\">\n",
       "  <thead>\n",
       "    <tr style=\"text-align: right;\">\n",
       "      <th></th>\n",
       "      <th>Airline Code</th>\n",
       "      <th>DelayTimes</th>\n",
       "      <th>FlightCodes</th>\n",
       "      <th>To_From</th>\n",
       "      <th>To</th>\n",
       "      <th>From</th>\n",
       "    </tr>\n",
       "  </thead>\n",
       "  <tbody>\n",
       "    <tr>\n",
       "      <td>0</td>\n",
       "      <td>Air Canada</td>\n",
       "      <td>[21, 40]</td>\n",
       "      <td>20015.0</td>\n",
       "      <td>WATERLOO_NEWYORK</td>\n",
       "      <td>WATERLOO</td>\n",
       "      <td>NEWYORK</td>\n",
       "    </tr>\n",
       "    <tr>\n",
       "      <td>1</td>\n",
       "      <td>Air France</td>\n",
       "      <td>[]</td>\n",
       "      <td>20025.0</td>\n",
       "      <td>MONTREAL_TORONTO</td>\n",
       "      <td>MONTREAL</td>\n",
       "      <td>TORONTO</td>\n",
       "    </tr>\n",
       "    <tr>\n",
       "      <td>2</td>\n",
       "      <td>Porter Airways</td>\n",
       "      <td>[60, 22, 87]</td>\n",
       "      <td>20035.0</td>\n",
       "      <td>CALGARY_OTTAWA</td>\n",
       "      <td>CALGARY</td>\n",
       "      <td>OTTAWA</td>\n",
       "    </tr>\n",
       "    <tr>\n",
       "      <td>3</td>\n",
       "      <td>Air France</td>\n",
       "      <td>[78, 66]</td>\n",
       "      <td>20045.0</td>\n",
       "      <td>OTTAWA_VANCOUVER</td>\n",
       "      <td>OTTAWA</td>\n",
       "      <td>VANCOUVER</td>\n",
       "    </tr>\n",
       "    <tr>\n",
       "      <td>4</td>\n",
       "      <td>Lufthansa</td>\n",
       "      <td>[12, 33]</td>\n",
       "      <td>20055.0</td>\n",
       "      <td>LONDON_MONTREAL</td>\n",
       "      <td>LONDON</td>\n",
       "      <td>MONTREAL</td>\n",
       "    </tr>\n",
       "  </tbody>\n",
       "</table>\n",
       "</div>"
      ],
      "text/plain": [
       "      Airline Code    DelayTimes  FlightCodes           To_From        To  \\\n",
       "0      Air Canada       [21, 40]      20015.0  WATERLOO_NEWYORK  WATERLOO   \n",
       "1      Air France             []      20025.0  MONTREAL_TORONTO  MONTREAL   \n",
       "2  Porter Airways   [60, 22, 87]      20035.0    CALGARY_OTTAWA   CALGARY   \n",
       "3       Air France      [78, 66]      20045.0  OTTAWA_VANCOUVER    OTTAWA   \n",
       "4        Lufthansa      [12, 33]      20055.0   LONDON_MONTREAL    LONDON   \n",
       "\n",
       "        From  \n",
       "0    NEWYORK  \n",
       "1    TORONTO  \n",
       "2     OTTAWA  \n",
       "3  VANCOUVER  \n",
       "4   MONTREAL  "
      ]
     },
     "execution_count": 10,
     "metadata": {},
     "output_type": "execute_result"
    }
   ],
   "source": [
    "modify_flight(raw_df)"
   ]
  },
  {
   "cell_type": "code",
   "execution_count": 12,
   "metadata": {},
   "outputs": [],
   "source": [
    "# Convert FlightCodes column to integer type\n",
    "raw_df['FlightCodes'] = raw_df['FlightCodes'].astype(int)"
   ]
  },
  {
   "cell_type": "code",
   "execution_count": 14,
   "metadata": {},
   "outputs": [],
   "source": [
    "df = raw_df[['Airline Code', 'DelayTimes', 'FlightCodes', 'To', 'From']]"
   ]
  },
  {
   "cell_type": "code",
   "execution_count": 15,
   "metadata": {},
   "outputs": [
    {
     "data": {
      "text/html": [
       "<div>\n",
       "<style scoped>\n",
       "    .dataframe tbody tr th:only-of-type {\n",
       "        vertical-align: middle;\n",
       "    }\n",
       "\n",
       "    .dataframe tbody tr th {\n",
       "        vertical-align: top;\n",
       "    }\n",
       "\n",
       "    .dataframe thead th {\n",
       "        text-align: right;\n",
       "    }\n",
       "</style>\n",
       "<table border=\"1\" class=\"dataframe\">\n",
       "  <thead>\n",
       "    <tr style=\"text-align: right;\">\n",
       "      <th></th>\n",
       "      <th>Airline Code</th>\n",
       "      <th>DelayTimes</th>\n",
       "      <th>FlightCodes</th>\n",
       "      <th>To</th>\n",
       "      <th>From</th>\n",
       "    </tr>\n",
       "  </thead>\n",
       "  <tbody>\n",
       "    <tr>\n",
       "      <td>0</td>\n",
       "      <td>Air Canada</td>\n",
       "      <td>[21, 40]</td>\n",
       "      <td>20015</td>\n",
       "      <td>WATERLOO</td>\n",
       "      <td>NEWYORK</td>\n",
       "    </tr>\n",
       "    <tr>\n",
       "      <td>1</td>\n",
       "      <td>Air France</td>\n",
       "      <td>[]</td>\n",
       "      <td>20025</td>\n",
       "      <td>MONTREAL</td>\n",
       "      <td>TORONTO</td>\n",
       "    </tr>\n",
       "    <tr>\n",
       "      <td>2</td>\n",
       "      <td>Porter Airways</td>\n",
       "      <td>[60, 22, 87]</td>\n",
       "      <td>20035</td>\n",
       "      <td>CALGARY</td>\n",
       "      <td>OTTAWA</td>\n",
       "    </tr>\n",
       "    <tr>\n",
       "      <td>3</td>\n",
       "      <td>Air France</td>\n",
       "      <td>[78, 66]</td>\n",
       "      <td>20045</td>\n",
       "      <td>OTTAWA</td>\n",
       "      <td>VANCOUVER</td>\n",
       "    </tr>\n",
       "    <tr>\n",
       "      <td>4</td>\n",
       "      <td>Lufthansa</td>\n",
       "      <td>[12, 33]</td>\n",
       "      <td>20055</td>\n",
       "      <td>LONDON</td>\n",
       "      <td>MONTREAL</td>\n",
       "    </tr>\n",
       "  </tbody>\n",
       "</table>\n",
       "</div>"
      ],
      "text/plain": [
       "      Airline Code    DelayTimes  FlightCodes        To       From\n",
       "0      Air Canada       [21, 40]        20015  WATERLOO    NEWYORK\n",
       "1      Air France             []        20025  MONTREAL    TORONTO\n",
       "2  Porter Airways   [60, 22, 87]        20035   CALGARY     OTTAWA\n",
       "3       Air France      [78, 66]        20045    OTTAWA  VANCOUVER\n",
       "4        Lufthansa      [12, 33]        20055    LONDON   MONTREAL"
      ]
     },
     "execution_count": 15,
     "metadata": {},
     "output_type": "execute_result"
    }
   ],
   "source": [
    "# Desired table output\n",
    "df"
   ]
  },
  {
   "cell_type": "code",
   "execution_count": null,
   "metadata": {},
   "outputs": [],
   "source": []
  }
 ],
 "metadata": {
  "kernelspec": {
   "display_name": "Python 3",
   "language": "python",
   "name": "python3"
  },
  "language_info": {
   "codemirror_mode": {
    "name": "ipython",
    "version": 3
   },
   "file_extension": ".py",
   "mimetype": "text/x-python",
   "name": "python",
   "nbconvert_exporter": "python",
   "pygments_lexer": "ipython3",
   "version": "3.7.4"
  }
 },
 "nbformat": 4,
 "nbformat_minor": 2
}
